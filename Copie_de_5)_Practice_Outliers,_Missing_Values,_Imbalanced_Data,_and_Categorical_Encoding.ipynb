{
  "cells": [
    {
      "cell_type": "markdown",
      "metadata": {
        "id": "cYos0yiquRQ3"
      },
      "source": [
        "# Practice: Outliers, Missing Values, Imbalanced Data, and Categorical Encoding\n",
        "\n",
        "## Instructions:\n",
        "In this exercise, you will work with the Titanic dataset to practice various data preprocessing techniques. Follow the steps below to complete the tasks.\n",
        "\n",
        "### Dataset:\n",
        "- Load the Titanic dataset to begin the analysis.\n",
        "\n",
        "---\n",
        "\n",
        "## Concepts Overview:\n",
        "\n",
        "### Outliers:\n",
        "Outliers are data points that differ significantly from other observations in the dataset. They can skew and mislead statistical analyses, so identifying and handling them is important.\n",
        "\n",
        "### Missing Values:\n",
        "Missing values occur when no data value is stored for a feature in an observation. Handling missing data appropriately is crucial, as many machine learning algorithms do not work well with missing values.\n",
        "\n",
        "### Imbalanced Data:\n",
        "Imbalanced data refers to datasets where the distribution of classes is not equal. This is particularly problematic in classification tasks, as models tend to be biased towards the majority class.\n",
        "\n",
        "### Categorical Encoding:\n",
        "Categorical encoding is the process of converting categorical data into numerical values that machine learning algorithms can process. This can be done using techniques such as label encoding, one-hot encoding, or frequency encoding.\n",
        "\n",
        "---\n",
        "\n",
        "## Part 1: Detecting and Handling Outliers\n",
        "1. **Select Two Columns:**\n",
        "   - Choose two numerical columns from the dataset that you want to work on for outlier detection.\n",
        "   \n",
        "2. **Visualize the Data:**\n",
        "   - Create a scatter plot or box plot to visualize the points in the selected columns.\n",
        "   \n",
        "3. **Outlier Detection:**\n",
        "   - Apply at least two different techniques to detect outliers.\n",
        "\n",
        "---\n",
        "\n",
        "## Part 2: Handling Missing Values\n",
        "1. **Check for Missing Values:**\n",
        "   - Inspect the dataset and check how many missing values are present in each column.\n",
        "   \n",
        "2. **Imputation:**\n",
        "   - Select a column that contains missing values.\n",
        "   - Apply **three different imputation techniques** to handle the missing values. For example:\n",
        "     - **Mean Imputation:** Replacing missing values with the mean of the column.\n",
        "     - **Median Imputation:** Replacing missing values with the median value, which is less affected by outliers.\n",
        "     - **Mode Imputation:** Replacing missing values with the most frequent value in the column.\n",
        "\n",
        "---\n",
        "\n",
        "## Part 3: Handling Imbalanced Data\n",
        "1. **Check Class Balance:**\n",
        "   - Are the classes in your target variable balanced? Analyze the distribution of the target class (e.g., Survival).\n",
        "   \n",
        "2. **SMOTE for Class Balancing:**\n",
        "   - Apply the **SMOTE (Synthetic Minority Over-sampling Technique)** to balance the class distribution. SMOTE generates synthetic samples for the minority class by interpolating between existing minority class examples.\n",
        "   - Visualize the class distribution before and after applying SMOTE.\n",
        "\n",
        "---\n",
        "\n",
        "## Part 4: Categorical Encoding\n",
        "1. **Select a Categorical Column:**\n",
        "   - Choose a categorical column (e.g., 'Sex', 'Embarked') that you want to work on.\n",
        "   \n",
        "2. **Apply Categorical Encoding:**\n",
        "   - Apply at least **two different encoding techniques** on the selected column. For example:\n",
        "     - **Label Encoding:** Converts categorical labels into numeric values by assigning a unique number to each class.\n",
        "     - **Frequency Encoding:** Assigns each category a value based on its frequency in the dataset.\n",
        "   \n",
        "3. **One-Hot Encoding:**\n",
        "   - Apply **One-Hot Encoding** on the categorical column. This technique creates binary columns for each category, with a '1' representing the presence of the category and '0' for its absence.\n",
        "---\n"
      ]
    },
    {
      "cell_type": "markdown",
      "source": [
        "PART 1 :"
      ],
      "metadata": {
        "id": "TrUcx3lWuZC2"
      }
    },
    {
      "cell_type": "markdown",
      "source": [
        "Select 2 columns"
      ],
      "metadata": {
        "id": "E3c74XqKwAH0"
      }
    },
    {
      "cell_type": "code",
      "source": [
        "!pip install imblearn"
      ],
      "metadata": {
        "id": "BvuIFsqOxucT",
        "outputId": "3d124cf3-9218-48f2-e3d0-c83b1d753c63",
        "colab": {
          "base_uri": "https://localhost:8080/"
        }
      },
      "execution_count": null,
      "outputs": [
        {
          "output_type": "stream",
          "name": "stdout",
          "text": [
            "Collecting imblearn\n",
            "  Downloading imblearn-0.0-py2.py3-none-any.whl.metadata (355 bytes)\n",
            "Requirement already satisfied: imbalanced-learn in /usr/local/lib/python3.10/dist-packages (from imblearn) (0.12.4)\n",
            "Requirement already satisfied: numpy>=1.17.3 in /usr/local/lib/python3.10/dist-packages (from imbalanced-learn->imblearn) (1.26.4)\n",
            "Requirement already satisfied: scipy>=1.5.0 in /usr/local/lib/python3.10/dist-packages (from imbalanced-learn->imblearn) (1.13.1)\n",
            "Requirement already satisfied: scikit-learn>=1.0.2 in /usr/local/lib/python3.10/dist-packages (from imbalanced-learn->imblearn) (1.5.2)\n",
            "Requirement already satisfied: joblib>=1.1.1 in /usr/local/lib/python3.10/dist-packages (from imbalanced-learn->imblearn) (1.4.2)\n",
            "Requirement already satisfied: threadpoolctl>=2.0.0 in /usr/local/lib/python3.10/dist-packages (from imbalanced-learn->imblearn) (3.5.0)\n",
            "Downloading imblearn-0.0-py2.py3-none-any.whl (1.9 kB)\n",
            "Installing collected packages: imblearn\n",
            "Successfully installed imblearn-0.0\n"
          ]
        }
      ]
    },
    {
      "cell_type": "code",
      "execution_count": null,
      "metadata": {
        "id": "bbaT1AnSuRRC",
        "outputId": "c4874a93-d5e3-418e-9e64-deac5cef2cbf",
        "colab": {
          "base_uri": "https://localhost:8080/",
          "height": 423
        }
      },
      "outputs": [
        {
          "output_type": "execute_result",
          "data": {
            "text/plain": [
              "     PassengerId  Survived\n",
              "0              1         0\n",
              "1              2         1\n",
              "2              3         1\n",
              "3              4         1\n",
              "4              5         0\n",
              "..           ...       ...\n",
              "886          887         0\n",
              "887          888         1\n",
              "888          889         0\n",
              "889          890         1\n",
              "890          891         0\n",
              "\n",
              "[891 rows x 2 columns]"
            ],
            "text/html": [
              "\n",
              "  <div id=\"df-f40f1daf-7978-4443-a3d5-d7bb9a4cb041\" class=\"colab-df-container\">\n",
              "    <div>\n",
              "<style scoped>\n",
              "    .dataframe tbody tr th:only-of-type {\n",
              "        vertical-align: middle;\n",
              "    }\n",
              "\n",
              "    .dataframe tbody tr th {\n",
              "        vertical-align: top;\n",
              "    }\n",
              "\n",
              "    .dataframe thead th {\n",
              "        text-align: right;\n",
              "    }\n",
              "</style>\n",
              "<table border=\"1\" class=\"dataframe\">\n",
              "  <thead>\n",
              "    <tr style=\"text-align: right;\">\n",
              "      <th></th>\n",
              "      <th>PassengerId</th>\n",
              "      <th>Survived</th>\n",
              "    </tr>\n",
              "  </thead>\n",
              "  <tbody>\n",
              "    <tr>\n",
              "      <th>0</th>\n",
              "      <td>1</td>\n",
              "      <td>0</td>\n",
              "    </tr>\n",
              "    <tr>\n",
              "      <th>1</th>\n",
              "      <td>2</td>\n",
              "      <td>1</td>\n",
              "    </tr>\n",
              "    <tr>\n",
              "      <th>2</th>\n",
              "      <td>3</td>\n",
              "      <td>1</td>\n",
              "    </tr>\n",
              "    <tr>\n",
              "      <th>3</th>\n",
              "      <td>4</td>\n",
              "      <td>1</td>\n",
              "    </tr>\n",
              "    <tr>\n",
              "      <th>4</th>\n",
              "      <td>5</td>\n",
              "      <td>0</td>\n",
              "    </tr>\n",
              "    <tr>\n",
              "      <th>...</th>\n",
              "      <td>...</td>\n",
              "      <td>...</td>\n",
              "    </tr>\n",
              "    <tr>\n",
              "      <th>886</th>\n",
              "      <td>887</td>\n",
              "      <td>0</td>\n",
              "    </tr>\n",
              "    <tr>\n",
              "      <th>887</th>\n",
              "      <td>888</td>\n",
              "      <td>1</td>\n",
              "    </tr>\n",
              "    <tr>\n",
              "      <th>888</th>\n",
              "      <td>889</td>\n",
              "      <td>0</td>\n",
              "    </tr>\n",
              "    <tr>\n",
              "      <th>889</th>\n",
              "      <td>890</td>\n",
              "      <td>1</td>\n",
              "    </tr>\n",
              "    <tr>\n",
              "      <th>890</th>\n",
              "      <td>891</td>\n",
              "      <td>0</td>\n",
              "    </tr>\n",
              "  </tbody>\n",
              "</table>\n",
              "<p>891 rows × 2 columns</p>\n",
              "</div>\n",
              "    <div class=\"colab-df-buttons\">\n",
              "\n",
              "  <div class=\"colab-df-container\">\n",
              "    <button class=\"colab-df-convert\" onclick=\"convertToInteractive('df-f40f1daf-7978-4443-a3d5-d7bb9a4cb041')\"\n",
              "            title=\"Convert this dataframe to an interactive table.\"\n",
              "            style=\"display:none;\">\n",
              "\n",
              "  <svg xmlns=\"http://www.w3.org/2000/svg\" height=\"24px\" viewBox=\"0 -960 960 960\">\n",
              "    <path d=\"M120-120v-720h720v720H120Zm60-500h600v-160H180v160Zm220 220h160v-160H400v160Zm0 220h160v-160H400v160ZM180-400h160v-160H180v160Zm440 0h160v-160H620v160ZM180-180h160v-160H180v160Zm440 0h160v-160H620v160Z\"/>\n",
              "  </svg>\n",
              "    </button>\n",
              "\n",
              "  <style>\n",
              "    .colab-df-container {\n",
              "      display:flex;\n",
              "      gap: 12px;\n",
              "    }\n",
              "\n",
              "    .colab-df-convert {\n",
              "      background-color: #E8F0FE;\n",
              "      border: none;\n",
              "      border-radius: 50%;\n",
              "      cursor: pointer;\n",
              "      display: none;\n",
              "      fill: #1967D2;\n",
              "      height: 32px;\n",
              "      padding: 0 0 0 0;\n",
              "      width: 32px;\n",
              "    }\n",
              "\n",
              "    .colab-df-convert:hover {\n",
              "      background-color: #E2EBFA;\n",
              "      box-shadow: 0px 1px 2px rgba(60, 64, 67, 0.3), 0px 1px 3px 1px rgba(60, 64, 67, 0.15);\n",
              "      fill: #174EA6;\n",
              "    }\n",
              "\n",
              "    .colab-df-buttons div {\n",
              "      margin-bottom: 4px;\n",
              "    }\n",
              "\n",
              "    [theme=dark] .colab-df-convert {\n",
              "      background-color: #3B4455;\n",
              "      fill: #D2E3FC;\n",
              "    }\n",
              "\n",
              "    [theme=dark] .colab-df-convert:hover {\n",
              "      background-color: #434B5C;\n",
              "      box-shadow: 0px 1px 3px 1px rgba(0, 0, 0, 0.15);\n",
              "      filter: drop-shadow(0px 1px 2px rgba(0, 0, 0, 0.3));\n",
              "      fill: #FFFFFF;\n",
              "    }\n",
              "  </style>\n",
              "\n",
              "    <script>\n",
              "      const buttonEl =\n",
              "        document.querySelector('#df-f40f1daf-7978-4443-a3d5-d7bb9a4cb041 button.colab-df-convert');\n",
              "      buttonEl.style.display =\n",
              "        google.colab.kernel.accessAllowed ? 'block' : 'none';\n",
              "\n",
              "      async function convertToInteractive(key) {\n",
              "        const element = document.querySelector('#df-f40f1daf-7978-4443-a3d5-d7bb9a4cb041');\n",
              "        const dataTable =\n",
              "          await google.colab.kernel.invokeFunction('convertToInteractive',\n",
              "                                                    [key], {});\n",
              "        if (!dataTable) return;\n",
              "\n",
              "        const docLinkHtml = 'Like what you see? Visit the ' +\n",
              "          '<a target=\"_blank\" href=https://colab.research.google.com/notebooks/data_table.ipynb>data table notebook</a>'\n",
              "          + ' to learn more about interactive tables.';\n",
              "        element.innerHTML = '';\n",
              "        dataTable['output_type'] = 'display_data';\n",
              "        await google.colab.output.renderOutput(dataTable, element);\n",
              "        const docLink = document.createElement('div');\n",
              "        docLink.innerHTML = docLinkHtml;\n",
              "        element.appendChild(docLink);\n",
              "      }\n",
              "    </script>\n",
              "  </div>\n",
              "\n",
              "\n",
              "<div id=\"df-2c907a17-fba3-432a-bbdf-341b4b43e2df\">\n",
              "  <button class=\"colab-df-quickchart\" onclick=\"quickchart('df-2c907a17-fba3-432a-bbdf-341b4b43e2df')\"\n",
              "            title=\"Suggest charts\"\n",
              "            style=\"display:none;\">\n",
              "\n",
              "<svg xmlns=\"http://www.w3.org/2000/svg\" height=\"24px\"viewBox=\"0 0 24 24\"\n",
              "     width=\"24px\">\n",
              "    <g>\n",
              "        <path d=\"M19 3H5c-1.1 0-2 .9-2 2v14c0 1.1.9 2 2 2h14c1.1 0 2-.9 2-2V5c0-1.1-.9-2-2-2zM9 17H7v-7h2v7zm4 0h-2V7h2v10zm4 0h-2v-4h2v4z\"/>\n",
              "    </g>\n",
              "</svg>\n",
              "  </button>\n",
              "\n",
              "<style>\n",
              "  .colab-df-quickchart {\n",
              "      --bg-color: #E8F0FE;\n",
              "      --fill-color: #1967D2;\n",
              "      --hover-bg-color: #E2EBFA;\n",
              "      --hover-fill-color: #174EA6;\n",
              "      --disabled-fill-color: #AAA;\n",
              "      --disabled-bg-color: #DDD;\n",
              "  }\n",
              "\n",
              "  [theme=dark] .colab-df-quickchart {\n",
              "      --bg-color: #3B4455;\n",
              "      --fill-color: #D2E3FC;\n",
              "      --hover-bg-color: #434B5C;\n",
              "      --hover-fill-color: #FFFFFF;\n",
              "      --disabled-bg-color: #3B4455;\n",
              "      --disabled-fill-color: #666;\n",
              "  }\n",
              "\n",
              "  .colab-df-quickchart {\n",
              "    background-color: var(--bg-color);\n",
              "    border: none;\n",
              "    border-radius: 50%;\n",
              "    cursor: pointer;\n",
              "    display: none;\n",
              "    fill: var(--fill-color);\n",
              "    height: 32px;\n",
              "    padding: 0;\n",
              "    width: 32px;\n",
              "  }\n",
              "\n",
              "  .colab-df-quickchart:hover {\n",
              "    background-color: var(--hover-bg-color);\n",
              "    box-shadow: 0 1px 2px rgba(60, 64, 67, 0.3), 0 1px 3px 1px rgba(60, 64, 67, 0.15);\n",
              "    fill: var(--button-hover-fill-color);\n",
              "  }\n",
              "\n",
              "  .colab-df-quickchart-complete:disabled,\n",
              "  .colab-df-quickchart-complete:disabled:hover {\n",
              "    background-color: var(--disabled-bg-color);\n",
              "    fill: var(--disabled-fill-color);\n",
              "    box-shadow: none;\n",
              "  }\n",
              "\n",
              "  .colab-df-spinner {\n",
              "    border: 2px solid var(--fill-color);\n",
              "    border-color: transparent;\n",
              "    border-bottom-color: var(--fill-color);\n",
              "    animation:\n",
              "      spin 1s steps(1) infinite;\n",
              "  }\n",
              "\n",
              "  @keyframes spin {\n",
              "    0% {\n",
              "      border-color: transparent;\n",
              "      border-bottom-color: var(--fill-color);\n",
              "      border-left-color: var(--fill-color);\n",
              "    }\n",
              "    20% {\n",
              "      border-color: transparent;\n",
              "      border-left-color: var(--fill-color);\n",
              "      border-top-color: var(--fill-color);\n",
              "    }\n",
              "    30% {\n",
              "      border-color: transparent;\n",
              "      border-left-color: var(--fill-color);\n",
              "      border-top-color: var(--fill-color);\n",
              "      border-right-color: var(--fill-color);\n",
              "    }\n",
              "    40% {\n",
              "      border-color: transparent;\n",
              "      border-right-color: var(--fill-color);\n",
              "      border-top-color: var(--fill-color);\n",
              "    }\n",
              "    60% {\n",
              "      border-color: transparent;\n",
              "      border-right-color: var(--fill-color);\n",
              "    }\n",
              "    80% {\n",
              "      border-color: transparent;\n",
              "      border-right-color: var(--fill-color);\n",
              "      border-bottom-color: var(--fill-color);\n",
              "    }\n",
              "    90% {\n",
              "      border-color: transparent;\n",
              "      border-bottom-color: var(--fill-color);\n",
              "    }\n",
              "  }\n",
              "</style>\n",
              "\n",
              "  <script>\n",
              "    async function quickchart(key) {\n",
              "      const quickchartButtonEl =\n",
              "        document.querySelector('#' + key + ' button');\n",
              "      quickchartButtonEl.disabled = true;  // To prevent multiple clicks.\n",
              "      quickchartButtonEl.classList.add('colab-df-spinner');\n",
              "      try {\n",
              "        const charts = await google.colab.kernel.invokeFunction(\n",
              "            'suggestCharts', [key], {});\n",
              "      } catch (error) {\n",
              "        console.error('Error during call to suggestCharts:', error);\n",
              "      }\n",
              "      quickchartButtonEl.classList.remove('colab-df-spinner');\n",
              "      quickchartButtonEl.classList.add('colab-df-quickchart-complete');\n",
              "    }\n",
              "    (() => {\n",
              "      let quickchartButtonEl =\n",
              "        document.querySelector('#df-2c907a17-fba3-432a-bbdf-341b4b43e2df button');\n",
              "      quickchartButtonEl.style.display =\n",
              "        google.colab.kernel.accessAllowed ? 'block' : 'none';\n",
              "    })();\n",
              "  </script>\n",
              "</div>\n",
              "\n",
              "  <div id=\"id_279666e2-83a8-4570-8168-fee879d09d16\">\n",
              "    <style>\n",
              "      .colab-df-generate {\n",
              "        background-color: #E8F0FE;\n",
              "        border: none;\n",
              "        border-radius: 50%;\n",
              "        cursor: pointer;\n",
              "        display: none;\n",
              "        fill: #1967D2;\n",
              "        height: 32px;\n",
              "        padding: 0 0 0 0;\n",
              "        width: 32px;\n",
              "      }\n",
              "\n",
              "      .colab-df-generate:hover {\n",
              "        background-color: #E2EBFA;\n",
              "        box-shadow: 0px 1px 2px rgba(60, 64, 67, 0.3), 0px 1px 3px 1px rgba(60, 64, 67, 0.15);\n",
              "        fill: #174EA6;\n",
              "      }\n",
              "\n",
              "      [theme=dark] .colab-df-generate {\n",
              "        background-color: #3B4455;\n",
              "        fill: #D2E3FC;\n",
              "      }\n",
              "\n",
              "      [theme=dark] .colab-df-generate:hover {\n",
              "        background-color: #434B5C;\n",
              "        box-shadow: 0px 1px 3px 1px rgba(0, 0, 0, 0.15);\n",
              "        filter: drop-shadow(0px 1px 2px rgba(0, 0, 0, 0.3));\n",
              "        fill: #FFFFFF;\n",
              "      }\n",
              "    </style>\n",
              "    <button class=\"colab-df-generate\" onclick=\"generateWithVariable('df')\"\n",
              "            title=\"Generate code using this dataframe.\"\n",
              "            style=\"display:none;\">\n",
              "\n",
              "  <svg xmlns=\"http://www.w3.org/2000/svg\" height=\"24px\"viewBox=\"0 0 24 24\"\n",
              "       width=\"24px\">\n",
              "    <path d=\"M7,19H8.4L18.45,9,17,7.55,7,17.6ZM5,21V16.75L18.45,3.32a2,2,0,0,1,2.83,0l1.4,1.43a1.91,1.91,0,0,1,.58,1.4,1.91,1.91,0,0,1-.58,1.4L9.25,21ZM18.45,9,17,7.55Zm-12,3A5.31,5.31,0,0,0,4.9,8.1,5.31,5.31,0,0,0,1,6.5,5.31,5.31,0,0,0,4.9,4.9,5.31,5.31,0,0,0,6.5,1,5.31,5.31,0,0,0,8.1,4.9,5.31,5.31,0,0,0,12,6.5,5.46,5.46,0,0,0,6.5,12Z\"/>\n",
              "  </svg>\n",
              "    </button>\n",
              "    <script>\n",
              "      (() => {\n",
              "      const buttonEl =\n",
              "        document.querySelector('#id_279666e2-83a8-4570-8168-fee879d09d16 button.colab-df-generate');\n",
              "      buttonEl.style.display =\n",
              "        google.colab.kernel.accessAllowed ? 'block' : 'none';\n",
              "\n",
              "      buttonEl.onclick = () => {\n",
              "        google.colab.notebook.generateWithVariable('df');\n",
              "      }\n",
              "      })();\n",
              "    </script>\n",
              "  </div>\n",
              "\n",
              "    </div>\n",
              "  </div>\n"
            ],
            "application/vnd.google.colaboratory.intrinsic+json": {
              "type": "dataframe",
              "variable_name": "df",
              "summary": "{\n  \"name\": \"df\",\n  \"rows\": 891,\n  \"fields\": [\n    {\n      \"column\": \"PassengerId\",\n      \"properties\": {\n        \"dtype\": \"number\",\n        \"std\": 257,\n        \"min\": 1,\n        \"max\": 891,\n        \"num_unique_values\": 891,\n        \"samples\": [\n          710,\n          440,\n          841\n        ],\n        \"semantic_type\": \"\",\n        \"description\": \"\"\n      }\n    },\n    {\n      \"column\": \"Survived\",\n      \"properties\": {\n        \"dtype\": \"number\",\n        \"std\": 0,\n        \"min\": 0,\n        \"max\": 1,\n        \"num_unique_values\": 2,\n        \"samples\": [\n          1,\n          0\n        ],\n        \"semantic_type\": \"\",\n        \"description\": \"\"\n      }\n    }\n  ]\n}"
            }
          },
          "metadata": {},
          "execution_count": 49
        }
      ],
      "source": [
        "import pandas as pd\n",
        "import seaborn as sns\n",
        "import matplotlib.pyplot as plt\n",
        "from scipy import stats\n",
        "from imblearn.over_sampling import SMOTE # Changed SMOT to SMOTE\n",
        "\n",
        "\n",
        "# Load the dataset\n",
        "gym = pd.read_csv('/content/titanic - titanic.csv')\n",
        "\n",
        "# Select the two columns for outlier detection\n",
        "df = gym[['PassengerId', 'Survived']].dropna()\n",
        "\n",
        "df"
      ]
    },
    {
      "cell_type": "markdown",
      "source": [
        "VIZUALISE THE DATA"
      ],
      "metadata": {
        "id": "7_95L9vIv7sy"
      }
    },
    {
      "cell_type": "code",
      "source": [
        "plt.figure(figsize=(8, 5))\n",
        "\n",
        "# Count plot pour visualiser la distribution de 'Survived'\n",
        "sns.countplot(x='Survived', data=df)\n",
        "plt.title('Distribution des Passagers par Statut de Survie')\n",
        "plt.xlabel('Survived (0 = Non, 1 = Oui)')\n",
        "plt.ylabel('Nombre de Passagers')\n",
        "plt.xticks([0, 1], ['Non', 'Oui'])\n",
        "plt.show()"
      ],
      "metadata": {
        "id": "alSnRdmiv9c_",
        "outputId": "7b7f33f2-2780-44ac-d4b8-c40713cfca92",
        "colab": {
          "base_uri": "https://localhost:8080/",
          "height": 470
        }
      },
      "execution_count": null,
      "outputs": [
        {
          "output_type": "display_data",
          "data": {
            "text/plain": [
              "<Figure size 800x500 with 1 Axes>"
            ],
            "image/png": "[encoded data removed]"
          },
          "metadata": {}
        }
      ]
    },
    {
      "cell_type": "markdown",
      "source": [
        "Outlier"
      ],
      "metadata": {
        "id": "QlD_1w8TweET"
      }
    },
    {
      "cell_type": "code",
      "source": [
        "\n",
        "unique_passenger_ids = df['PassengerId'].unique()\n",
        "unique_survival_values = df['Survived'].unique()\n",
        "\n",
        "print(\"Valeurs uniques dans 'PassengerId':\", unique_passenger_ids)\n",
        "print(\"Valeurs uniques dans 'Survived':\", unique_survival_values)\n",
        "\n",
        "\n",
        "outliers_passenger_id = df[df['PassengerId'] < 0]\n",
        "\n",
        "\n",
        "print(\"Outliers potentiels dans 'PassengerId' :\")\n",
        "print(outliers_passenger_id)"
      ],
      "metadata": {
        "id": "cjbRf6HDwiCk",
        "outputId": "2b556f64-8e4b-42cc-b801-bcc4fafd5c3a",
        "colab": {
          "base_uri": "https://localhost:8080/"
        }
      },
      "execution_count": null,
      "outputs": [
        {
          "output_type": "stream",
          "name": "stdout",
          "text": [
            "Valeurs uniques dans 'PassengerId': [  1   2   3   4   5   6   7   8   9  10  11  12  13  14  15  16  17  18\n",
            "  19  20  21  22  23  24  25  26  27  28  29  30  31  32  33  34  35  36\n",
            "  37  38  39  40  41  42  43  44  45  46  47  48  49  50  51  52  53  54\n",
            "  55  56  57  58  59  60  61  62  63  64  65  66  67  68  69  70  71  72\n",
            "  73  74  75  76  77  78  79  80  81  82  83  84  85  86  87  88  89  90\n",
            "  91  92  93  94  95  96  97  98  99 100 101 102 103 104 105 106 107 108\n",
            " 109 110 111 112 113 114 115 116 117 118 119 120 121 122 123 124 125 126\n",
            " 127 128 129 130 131 132 133 134 135 136 137 138 139 140 141 142 143 144\n",
            " 145 146 147 148 149 150 151 152 153 154 155 156 157 158 159 160 161 162\n",
            " 163 164 165 166 167 168 169 170 171 172 173 174 175 176 177 178 179 180\n",
            " 181 182 183 184 185 186 187 188 189 190 191 192 193 194 195 196 197 198\n",
            " 199 200 201 202 203 204 205 206 207 208 209 210 211 212 213 214 215 216\n",
            " 217 218 219 220 221 222 223 224 225 226 227 228 229 230 231 232 233 234\n",
            " 235 236 237 238 239 240 241 242 243 244 245 246 247 248 249 250 251 252\n",
            " 253 254 255 256 257 258 259 260 261 262 263 264 265 266 267 268 269 270\n",
            " 271 272 273 274 275 276 277 278 279 280 281 282 283 284 285 286 287 288\n",
            " 289 290 291 292 293 294 295 296 297 298 299 300 301 302 303 304 305 306\n",
            " 307 308 309 310 311 312 313 314 315 316 317 318 319 320 321 322 323 324\n",
            " 325 326 327 328 329 330 331 332 333 334 335 336 337 338 339 340 341 342\n",
            " 343 344 345 346 347 348 349 350 351 352 353 354 355 356 357 358 359 360\n",
            " 361 362 363 364 365 366 367 368 369 370 371 372 373 374 375 376 377 378\n",
            " 379 380 381 382 383 384 385 386 387 388 389 390 391 392 393 394 395 396\n",
            " 397 398 399 400 401 402 403 404 405 406 407 408 409 410 411 412 413 414\n",
            " 415 416 417 418 419 420 421 422 423 424 425 426 427 428 429 430 431 432\n",
            " 433 434 435 436 437 438 439 440 441 442 443 444 445 446 447 448 449 450\n",
            " 451 452 453 454 455 456 457 458 459 460 461 462 463 464 465 466 467 468\n",
            " 469 470 471 472 473 474 475 476 477 478 479 480 481 482 483 484 485 486\n",
            " 487 488 489 490 491 492 493 494 495 496 497 498 499 500 501 502 503 504\n",
            " 505 506 507 508 509 510 511 512 513 514 515 516 517 518 519 520 521 522\n",
            " 523 524 525 526 527 528 529 530 531 532 533 534 535 536 537 538 539 540\n",
            " 541 542 543 544 545 546 547 548 549 550 551 552 553 554 555 556 557 558\n",
            " 559 560 561 562 563 564 565 566 567 568 569 570 571 572 573 574 575 576\n",
            " 577 578 579 580 581 582 583 584 585 586 587 588 589 590 591 592 593 594\n",
            " 595 596 597 598 599 600 601 602 603 604 605 606 607 608 609 610 611 612\n",
            " 613 614 615 616 617 618 619 620 621 622 623 624 625 626 627 628 629 630\n",
            " 631 632 633 634 635 636 637 638 639 640 641 642 643 644 645 646 647 648\n",
            " 649 650 651 652 653 654 655 656 657 658 659 660 661 662 663 664 665 666\n",
            " 667 668 669 670 671 672 673 674 675 676 677 678 679 680 681 682 683 684\n",
            " 685 686 687 688 689 690 691 692 693 694 695 696 697 698 699 700 701 702\n",
            " 703 704 705 706 707 708 709 710 711 712 713 714 715 716 717 718 719 720\n",
            " 721 722 723 724 725 726 727 728 729 730 731 732 733 734 735 736 737 738\n",
            " 739 740 741 742 743 744 745 746 747 748 749 750 751 752 753 754 755 756\n",
            " 757 758 759 760 761 762 763 764 765 766 767 768 769 770 771 772 773 774\n",
            " 775 776 777 778 779 780 781 782 783 784 785 786 787 788 789 790 791 792\n",
            " 793 794 795 796 797 798 799 800 801 802 803 804 805 806 807 808 809 810\n",
            " 811 812 813 814 815 816 817 818 819 820 821 822 823 824 825 826 827 828\n",
            " 829 830 831 832 833 834 835 836 837 838 839 840 841 842 843 844 845 846\n",
            " 847 848 849 850 851 852 853 854 855 856 857 858 859 860 861 862 863 864\n",
            " 865 866 867 868 869 870 871 872 873 874 875 876 877 878 879 880 881 882\n",
            " 883 884 885 886 887 888 889 890 891]\n",
            "Valeurs uniques dans 'Survived': [0 1]\n",
            "Outliers potentiels dans 'PassengerId' :\n",
            "Empty DataFrame\n",
            "Columns: [PassengerId, Survived]\n",
            "Index: []\n"
          ]
        }
      ]
    },
    {
      "cell_type": "markdown",
      "source": [
        "Part 2: Handling Missing Values\n",
        "Check for Missing Values:\n",
        "\n",
        "Inspect the dataset and check how many missing values are present in each column.\n",
        "Imputation:\n",
        "\n",
        "Select a column that contains missing values.\n",
        "Apply three different imputation techniques to handle the missing values. For example:\n",
        "Mean Imputation: Replacing missing values with the mean of the column.\n",
        "Median Imputation: Replacing missing values with the median value, which is less affected by outliers.\n",
        "Mode Imputation: Replacing missing values with the most frequent value in the column.\n"
      ],
      "metadata": {
        "id": "JE8zFTCJwuI-"
      }
    },
    {
      "cell_type": "code",
      "source": [
        "missing_values = gym.isnull().sum()\n",
        "print(\"Valeurs manquantes par colonne :\")\n",
        "print(missing_values[missing_values > 0])  # Afficher uniquement les colonnes avec des valeurs manquantes\n",
        "\n",
        "# Sélectionner une colonne avec des valeurs manquantes (par exemple, 'Age')\n",
        "age_missing = gym['Age'].isnull().sum()\n",
        "print(f\"\\nNombre de valeurs manquantes dans 'Age': {age_missing}\")"
      ],
      "metadata": {
        "id": "hGfSd4O4wu5_",
        "outputId": "9f58fdf5-62b8-47a8-b135-8f9ba5b17a8a",
        "colab": {
          "base_uri": "https://localhost:8080/"
        }
      },
      "execution_count": null,
      "outputs": [
        {
          "output_type": "stream",
          "name": "stdout",
          "text": [
            "Valeurs manquantes par colonne :\n",
            "Age         177\n",
            "Cabin       687\n",
            "Embarked      2\n",
            "dtype: int64\n",
            "\n",
            "Nombre de valeurs manquantes dans 'Age': 177\n"
          ]
        }
      ]
    },
    {
      "cell_type": "code",
      "source": [
        "# 1. Mean\n",
        "mean_age = gym['Age'].mean()\n",
        "gym['Age_mean_imputed'] = gym['Age'].fillna(mean_age)\n",
        "print(\"\\nImputation par la moyenne :\")\n",
        "print(gym[['Age', 'Age_mean_imputed']].head())\n",
        "\n",
        "# 2. Median\n",
        "median_age = gym['Age'].median()\n",
        "gym['Age_median_imputed'] = gym['Age'].fillna(median_age)\n",
        "print(\"\\nImputation par la médiane :\")\n",
        "print(gym[['Age', 'Age_median_imputed']].head())\n",
        "\n",
        "# 3. Mode\n",
        "mode_age = gym['Age'].mode()[0]  # Le mode peut retourner plusieurs valeurs, donc nous prenons le premier\n",
        "gym['Age_mode_imputed'] = gym['Age'].fillna(mode_age)\n",
        "print(\"\\nImputation par le mode :\")\n",
        "print(gym[['Age', 'Age_mode_imputed']].head())"
      ],
      "metadata": {
        "id": "8XVGdIHexAK1",
        "outputId": "a03535df-a460-47e7-afa6-fdd616a08c07",
        "colab": {
          "base_uri": "https://localhost:8080/"
        }
      },
      "execution_count": null,
      "outputs": [
        {
          "output_type": "stream",
          "name": "stdout",
          "text": [
            "\n",
            "Imputation par la moyenne :\n",
            "    Age  Age_mean_imputed\n",
            "0  22.0              22.0\n",
            "1  38.0              38.0\n",
            "2  26.0              26.0\n",
            "3  35.0              35.0\n",
            "4  35.0              35.0\n",
            "\n",
            "Imputation par la médiane :\n",
            "    Age  Age_median_imputed\n",
            "0  22.0                22.0\n",
            "1  38.0                38.0\n",
            "2  26.0                26.0\n",
            "3  35.0                35.0\n",
            "4  35.0                35.0\n",
            "\n",
            "Imputation par le mode :\n",
            "    Age  Age_mode_imputed\n",
            "0  22.0              22.0\n",
            "1  38.0              38.0\n",
            "2  26.0              26.0\n",
            "3  35.0              35.0\n",
            "4  35.0              35.0\n"
          ]
        }
      ]
    },
    {
      "cell_type": "markdown",
      "source": [
        "Part 3: Handling Imbalanced Data\n",
        "Check Class Balance:\n",
        "\n",
        "Are the classes in your target variable balanced? Analyze the distribution of the target class (e.g., Survival).\n",
        "SMOTE for Class Balancing:\n",
        "\n",
        "Apply the SMOTE (Synthetic Minority Over-sampling Technique) to balance the class distribution. SMOTE generates synthetic samples for the minority class by interpolating between existing minority class examples.\n",
        "Visualize the class distribution before and after applying SMOTE."
      ],
      "metadata": {
        "id": "k6IRAVUrxOGd"
      }
    },
    {
      "cell_type": "code",
      "source": [
        "class_counts = gym['Survived'].value_counts()\n",
        "print(\"Distribution des classes avant SMOTE :\")\n",
        "print(class_counts)\n",
        "\n",
        "# Visualiser la distribution des classes\n",
        "sns.countplot(x='Survived', data=gym)\n",
        "plt.title('Distribution des Classes (Avant SMOTE)')\n",
        "plt.show()"
      ],
      "metadata": {
        "id": "A4sMyqORxO7b",
        "outputId": "45df40af-db33-431f-8580-f5c69bd70bbd",
        "colab": {
          "base_uri": "https://localhost:8080/",
          "height": 559
        }
      },
      "execution_count": null,
      "outputs": [
        {
          "output_type": "stream",
          "name": "stdout",
          "text": [
            "Distribution des classes avant SMOTE :\n",
            "Survived\n",
            "0    549\n",
            "1    342\n",
            "Name: count, dtype: int64\n"
          ]
        },
        {
          "output_type": "display_data",
          "data": {
            "text/plain": [
              "<Figure size 640x480 with 1 Axes>"
            ],
            "image/png": "[encoded data removed]"
          },
          "metadata": {}
        }
      ]
    },
    {
      "cell_type": "code",
      "source": [
        "class_counts = gym['Survived'].value_counts()\n",
        "print(\"Distribution des classes avant SMOTE :\")\n",
        "print(class_counts)\n",
        "\n",
        "# Visualize\n",
        "sns.countplot(x='Survived', data=gym)\n",
        "plt.title('Distribution des Classes (Avant SMOTE)')\n",
        "plt.show()"
      ],
      "metadata": {
        "id": "_9VeQ4qPxT_i",
        "outputId": "6df266bd-37c5-452f-9840-d19adcf9b491",
        "colab": {
          "base_uri": "https://localhost:8080/",
          "height": 559
        }
      },
      "execution_count": null,
      "outputs": [
        {
          "output_type": "stream",
          "name": "stdout",
          "text": [
            "Distribution des classes avant SMOTE :\n",
            "Survived\n",
            "0    549\n",
            "1    342\n",
            "Name: count, dtype: int64\n"
          ]
        },
        {
          "output_type": "display_data",
          "data": {
            "text/plain": [
              "<Figure size 640x480 with 1 Axes>"
            ],
            "image/png": "[encoded data removed]"
          },
          "metadata": {}
        }
      ]
    },
    {
      "cell_type": "code",
      "source": [
        "!pip install imblearn\n",
        "import pandas as pd\n",
        "from imblearn.over_sampling import SMOTE\n",
        "import numpy as np # Import numpy for using np.nan\n",
        "\n",
        "\n",
        "# Assuming 'gym' is your DataFrame\n",
        "# Drop non-numeric columns before applying SMOTE\n",
        "X = gym.select_dtypes(include=['number']).drop('Survived', axis=1)  # Keep only numeric features and drop target variable\n",
        "y = gym['Survived']\n",
        "\n",
        "# Impute missing values with the mean\n",
        "# (you can choose other imputation methods like median or mode)\n",
        "for col in X.columns:\n",
        "    X[col] = X[col].fillna(X[col].mean())\n",
        "\n",
        "# Check if any NaNs or infinities remain after imputation\n",
        "# Replace infinite values with a large finite value\n",
        "X = X.replace([np.inf, -np.inf], np.nanmax(X[X != np.inf]))\n",
        "\n",
        "# Impute any remaining NaNs after handling infinities\n",
        "X = X.fillna(X.mean())\n",
        "\n",
        "smote = SMOTE(random_state=42)\n",
        "X_resampled, y_resampled = smote.fit_resample(X, y)\n",
        "\n",
        "# Now you can proceed with the rest of your code\n",
        "new_class_counts = y_resampled.value_counts()\n",
        "print(\"Distribution des classes après SMOTE :\")\n",
        "print(new_class_counts)"
      ],
      "metadata": {
        "id": "IFceYXbVxbYn",
        "outputId": "eb207b56-7898-472e-8afb-5df8a149ab28",
        "colab": {
          "base_uri": "https://localhost:8080/"
        }
      },
      "execution_count": null,
      "outputs": [
        {
          "output_type": "stream",
          "name": "stdout",
          "text": [
            "Requirement already satisfied: imblearn in /usr/local/lib/python3.10/dist-packages (0.0)\n",
            "Requirement already satisfied: imbalanced-learn in /usr/local/lib/python3.10/dist-packages (from imblearn) (0.12.4)\n",
            "Requirement already satisfied: numpy>=1.17.3 in /usr/local/lib/python3.10/dist-packages (from imbalanced-learn->imblearn) (1.26.4)\n",
            "Requirement already satisfied: scipy>=1.5.0 in /usr/local/lib/python3.10/dist-packages (from imbalanced-learn->imblearn) (1.13.1)\n",
            "Requirement already satisfied: scikit-learn>=1.0.2 in /usr/local/lib/python3.10/dist-packages (from imbalanced-learn->imblearn) (1.5.2)\n",
            "Requirement already satisfied: joblib>=1.1.1 in /usr/local/lib/python3.10/dist-packages (from imbalanced-learn->imblearn) (1.4.2)\n",
            "Requirement already satisfied: threadpoolctl>=2.0.0 in /usr/local/lib/python3.10/dist-packages (from imbalanced-learn->imblearn) (3.5.0)\n",
            "Distribution des classes après SMOTE :\n",
            "Survived\n",
            "0    549\n",
            "1    549\n",
            "Name: count, dtype: int64\n"
          ]
        }
      ]
    },
    {
      "cell_type": "markdown",
      "source": [
        "Part 4: Categorical Encoding\n",
        "Select a Categorical Column:\n",
        "\n",
        "Choose a categorical column (e.g., 'Sex', 'Embarked') that you want to work on.\n",
        "Apply Categorical Encoding:\n",
        "\n",
        "Apply at least two different encoding techniques on the selected column. For example:\n",
        "Label Encoding: Converts categorical labels into numeric values by assigning a unique number to each class.\n",
        "Frequency Encoding: Assigns each category a value based on its frequency in the dataset.\n",
        "One-Hot Encoding:\n",
        "\n",
        "Apply One-Hot Encoding on the categorical column. This technique creates binary columns for each category, with a '1' representing the presence of the category and '0' for its absence."
      ],
      "metadata": {
        "id": "A2LGDkXG28mb"
      }
    },
    {
      "cell_type": "code",
      "source": [
        "from sklearn.preprocessing import LabelEncoder"
      ],
      "metadata": {
        "id": "OlvRbQoXyugj"
      },
      "execution_count": null,
      "outputs": []
    },
    {
      "cell_type": "code",
      "source": [
        "#Step 1\n",
        "categorical_column = 'Sex'"
      ],
      "metadata": {
        "id": "k7UWXBc-3BdC"
      },
      "execution_count": null,
      "outputs": []
    },
    {
      "cell_type": "code",
      "source": [
        "# Step 2\n",
        "label_encoder = LabelEncoder()\n",
        "gym['Sex_label_encoded'] = label_encoder.fit_transform(gym[categorical_column])"
      ],
      "metadata": {
        "id": "UfFrgHEn3ERu"
      },
      "execution_count": null,
      "outputs": []
    },
    {
      "cell_type": "code",
      "source": [
        "# Show Label Encoding\n",
        "print(\"\\nLabel Encoding :\")\n",
        "print(gym[['Sex', 'Sex_label_encoded']].head())"
      ],
      "metadata": {
        "id": "6nmFt7RJ3Gjs",
        "outputId": "0727d4d8-c8f0-4062-8b3c-dc4b17ba8045",
        "colab": {
          "base_uri": "https://localhost:8080/"
        }
      },
      "execution_count": null,
      "outputs": [
        {
          "output_type": "stream",
          "name": "stdout",
          "text": [
            "\n",
            "Label Encoding :\n",
            "      Sex  Sex_label_encoded\n",
            "0    male                  1\n",
            "1  female                  0\n",
            "2  female                  0\n",
            "3  female                  0\n",
            "4    male                  1\n"
          ]
        }
      ]
    },
    {
      "cell_type": "code",
      "source": [
        "# Step 3\n",
        "frequency_encoding = gym[categorical_column].value_counts(normalize=True).to_dict()\n",
        "gym['Sex_frequency_encoded'] = gym[categorical_column].map(frequency_encoding)"
      ],
      "metadata": {
        "id": "e5eCjlGO3KG8"
      },
      "execution_count": null,
      "outputs": []
    },
    {
      "cell_type": "code",
      "source": [
        "# Show Frequency Encoding\n",
        "print(\"\\nFrequency Encoding :\")\n",
        "print(gym[['Sex', 'Sex_frequency_encoded']].head())"
      ],
      "metadata": {
        "id": "a3BeFIKx3NU-",
        "outputId": "0dcf02fc-7436-402d-d189-b2bb82110e1b",
        "colab": {
          "base_uri": "https://localhost:8080/"
        }
      },
      "execution_count": null,
      "outputs": [
        {
          "output_type": "stream",
          "name": "stdout",
          "text": [
            "\n",
            "Frequency Encoding :\n",
            "      Sex  Sex_frequency_encoded\n",
            "0    male               0.647587\n",
            "1  female               0.352413\n",
            "2  female               0.352413\n",
            "3  female               0.352413\n",
            "4    male               0.647587\n"
          ]
        }
      ]
    },
    {
      "cell_type": "code",
      "source": [
        "# Étape 4 :  One-Hot Encoding\n",
        "gym_one_hot_encoded = pd.get_dummies(gym, columns=[categorical_column], prefix=categorical_column)\n",
        "\n",
        "# Afficher les résultats du One-Hot Encoding\n",
        "print(\"\\nOne-Hot Encoding :\")\n",
        "print(gym_one_hot_encoded.head())"
      ],
      "metadata": {
        "id": "ZlQkRwJF3RmF",
        "outputId": "3c3fef91-c421-45f9-b309-ccbd9cd4451d",
        "colab": {
          "base_uri": "https://localhost:8080/"
        }
      },
      "execution_count": null,
      "outputs": [
        {
          "output_type": "stream",
          "name": "stdout",
          "text": [
            "\n",
            "One-Hot Encoding :\n",
            "   PassengerId  Survived  Pclass  \\\n",
            "0            1         0       3   \n",
            "1            2         1       1   \n",
            "2            3         1       3   \n",
            "3            4         1       1   \n",
            "4            5         0       3   \n",
            "\n",
            "                                                Name   Age  SibSp  Parch  \\\n",
            "0                            Braund, Mr. Owen Harris  22.0      1      0   \n",
            "1  Cumings, Mrs. John Bradley (Florence Briggs Th...  38.0      1      0   \n",
            "2                             Heikkinen, Miss. Laina  26.0      0      0   \n",
            "3       Futrelle, Mrs. Jacques Heath (Lily May Peel)  35.0      1      0   \n",
            "4                           Allen, Mr. William Henry  35.0      0      0   \n",
            "\n",
            "             Ticket     Fare Cabin Embarked  Age_mean_imputed  \\\n",
            "0         A/5 21171   7.2500   NaN        S              22.0   \n",
            "1          PC 17599  71.2833   C85        C              38.0   \n",
            "2  STON/O2. 3101282   7.9250   NaN        S              26.0   \n",
            "3            113803  53.1000  C123        S              35.0   \n",
            "4            373450   8.0500   NaN        S              35.0   \n",
            "\n",
            "   Age_median_imputed  Age_mode_imputed  Sex_label_encoded  \\\n",
            "0                22.0              22.0                  1   \n",
            "1                38.0              38.0                  0   \n",
            "2                26.0              26.0                  0   \n",
            "3                35.0              35.0                  0   \n",
            "4                35.0              35.0                  1   \n",
            "\n",
            "   Sex_frequency_encoded  Sex_female  Sex_male  \n",
            "0               0.647587       False      True  \n",
            "1               0.352413        True     False  \n",
            "2               0.352413        True     False  \n",
            "3               0.352413        True     False  \n",
            "4               0.647587       False      True  \n"
          ]
        }
      ]
    }
  ],
  "metadata": {
    "language_info": {
      "name": "python"
    },
    "colab": {
      "provenance": []
    },
    "kernelspec": {
      "name": "python3",
      "display_name": "Python 3"
    }
  },
  "nbformat": 4,
  "nbformat_minor": 0
}