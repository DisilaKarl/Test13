{
  "cells": [
    {
      "cell_type": "code",
      "execution_count": null,
      "metadata": {
        "id": "3__cH99CkaxT",
        "outputId": "aae519bb-5fac-4667-a131-a8c5a97aa7e9"
      },
      "outputs": [
        {
          "name": "stdout",
          "output_type": "stream",
          "text": [
            "Requirement already satisfied: numpy in c:\\users\\disila karl william\\appdata\\local\\programs\\python\\python313\\lib\\site-packages (2.1.2)\n",
            "Collecting matplotlib\n",
            "  Downloading matplotlib-3.9.2-cp313-cp313-win_amd64.whl.metadata (11 kB)\n",
            "Collecting contourpy>=1.0.1 (from matplotlib)\n",
            "  Downloading contourpy-1.3.0-cp313-cp313-win_amd64.whl.metadata (5.4 kB)\n",
            "Collecting cycler>=0.10 (from matplotlib)\n",
            "  Downloading cycler-0.12.1-py3-none-any.whl.metadata (3.8 kB)\n",
            "Collecting fonttools>=4.22.0 (from matplotlib)\n",
            "  Downloading fonttools-4.54.1-cp313-cp313-win_amd64.whl.metadata (167 kB)\n",
            "Collecting kiwisolver>=1.3.1 (from matplotlib)\n",
            "  Downloading kiwisolver-1.4.7-cp313-cp313-win_amd64.whl.metadata (6.4 kB)\n",
            "Requirement already satisfied: packaging>=20.0 in c:\\users\\disila karl william\\appdata\\local\\programs\\python\\python313\\lib\\site-packages (from matplotlib) (24.1)\n",
            "Collecting pillow>=8 (from matplotlib)\n",
            "  Downloading pillow-11.0.0-cp313-cp313-win_amd64.whl.metadata (9.3 kB)\n",
            "Collecting pyparsing>=2.3.1 (from matplotlib)\n",
            "  Downloading pyparsing-3.2.0-py3-none-any.whl.metadata (5.0 kB)\n",
            "Requirement already satisfied: python-dateutil>=2.7 in c:\\users\\disila karl william\\appdata\\local\\programs\\python\\python313\\lib\\site-packages (from matplotlib) (2.9.0.post0)\n",
            "Requirement already satisfied: six>=1.5 in c:\\users\\disila karl william\\appdata\\local\\programs\\python\\python313\\lib\\site-packages (from python-dateutil>=2.7->matplotlib) (1.16.0)\n",
            "Downloading matplotlib-3.9.2-cp313-cp313-win_amd64.whl (7.8 MB)\n",
            "   ---------------------------------------- 0.0/7.8 MB ? eta -:--:--\n",
            "   - -------------------------------------- 0.3/7.8 MB ? eta -:--:--\n",
            "   -- ------------------------------------- 0.5/7.8 MB 1.3 MB/s eta 0:00:06\n",
            "   ---- ----------------------------------- 0.8/7.8 MB 1.2 MB/s eta 0:00:06\n",
            "   ----- ---------------------------------- 1.0/7.8 MB 1.3 MB/s eta 0:00:06\n",
            "   ------ --------------------------------- 1.3/7.8 MB 1.2 MB/s eta 0:00:06\n",
            "   --------- ------------------------------ 1.8/7.8 MB 1.4 MB/s eta 0:00:05\n",
            "   ---------- ----------------------------- 2.1/7.8 MB 1.4 MB/s eta 0:00:05\n",
            "   ------------ --------------------------- 2.4/7.8 MB 1.5 MB/s eta 0:00:04\n",
            "   -------------- ------------------------- 2.9/7.8 MB 1.5 MB/s eta 0:00:04\n",
            "   ----------------- ---------------------- 3.4/7.8 MB 1.6 MB/s eta 0:00:03\n",
            "   -------------------- ------------------- 3.9/7.8 MB 1.7 MB/s eta 0:00:03\n",
            "   --------------------- ------------------ 4.2/7.8 MB 1.6 MB/s eta 0:00:03\n",
            "   --------------------- ------------------ 4.2/7.8 MB 1.6 MB/s eta 0:00:03\n",
            "   ------------------------ --------------- 4.7/7.8 MB 1.6 MB/s eta 0:00:02\n",
            "   -------------------------- ------------- 5.2/7.8 MB 1.7 MB/s eta 0:00:02\n",
            "   -------------------------- ------------- 5.2/7.8 MB 1.7 MB/s eta 0:00:02\n",
            "   ----------------------------- ---------- 5.8/7.8 MB 1.6 MB/s eta 0:00:02\n",
            "   ------------------------------ --------- 6.0/7.8 MB 1.6 MB/s eta 0:00:02\n",
            "   -------------------------------- ------- 6.3/7.8 MB 1.5 MB/s eta 0:00:02\n",
            "   -------------------------------- ------- 6.3/7.8 MB 1.5 MB/s eta 0:00:02\n",
            "   --------------------------------- ------ 6.6/7.8 MB 1.4 MB/s eta 0:00:01\n",
            "   --------------------------------- ------ 6.6/7.8 MB 1.4 MB/s eta 0:00:01\n",
            "   --------------------------------- ------ 6.6/7.8 MB 1.4 MB/s eta 0:00:01\n",
            "   ---------------------------------- ----- 6.8/7.8 MB 1.3 MB/s eta 0:00:01\n",
            "   ---------------------------------- ----- 6.8/7.8 MB 1.3 MB/s eta 0:00:01\n",
            "   ------------------------------------ --- 7.1/7.8 MB 1.3 MB/s eta 0:00:01\n",
            "   ------------------------------------ --- 7.1/7.8 MB 1.3 MB/s eta 0:00:01\n",
            "   ------------------------------------ --- 7.1/7.8 MB 1.3 MB/s eta 0:00:01\n",
            "   ------------------------------------ --- 7.1/7.8 MB 1.3 MB/s eta 0:00:01\n",
            "   ------------------------------------- -- 7.3/7.8 MB 1.2 MB/s eta 0:00:01\n",
            "   ------------------------------------- -- 7.3/7.8 MB 1.2 MB/s eta 0:00:01\n",
            "   ------------------------------------- -- 7.3/7.8 MB 1.2 MB/s eta 0:00:01\n",
            "   -------------------------------------- - 7.6/7.8 MB 1.1 MB/s eta 0:00:01\n",
            "   -------------------------------------- - 7.6/7.8 MB 1.1 MB/s eta 0:00:01\n",
            "   -------------------------------------- - 7.6/7.8 MB 1.1 MB/s eta 0:00:01\n",
            "   -------------------------------------- - 7.6/7.8 MB 1.1 MB/s eta 0:00:01\n",
            "   ---------------------------------------- 7.8/7.8 MB 986.3 kB/s eta 0:00:00\n",
            "Downloading contourpy-1.3.0-cp313-cp313-win_amd64.whl (218 kB)\n",
            "Downloading cycler-0.12.1-py3-none-any.whl (8.3 kB)\n",
            "Downloading fonttools-4.54.1-cp313-cp313-win_amd64.whl (2.2 MB)\n",
            "   ---------------------------------------- 0.0/2.2 MB ? eta -:--:--\n",
            "   ---- ----------------------------------- 0.3/2.2 MB ? eta -:--:--\n",
            "   --------- ------------------------------ 0.5/2.2 MB 1.8 MB/s eta 0:00:01\n",
            "   -------------- ------------------------- 0.8/2.2 MB 1.3 MB/s eta 0:00:02\n",
            "   -------------- ------------------------- 0.8/2.2 MB 1.3 MB/s eta 0:00:02\n",
            "   -------------- ------------------------- 0.8/2.2 MB 1.3 MB/s eta 0:00:02\n",
            "   -------------- ------------------------- 0.8/2.2 MB 1.3 MB/s eta 0:00:02\n",
            "   ------------------- -------------------- 1.0/2.2 MB 655.0 kB/s eta 0:00:02\n",
            "   ------------------- -------------------- 1.0/2.2 MB 655.0 kB/s eta 0:00:02\n",
            "   ------------------- -------------------- 1.0/2.2 MB 655.0 kB/s eta 0:00:02\n",
            "   ------------------- -------------------- 1.0/2.2 MB 655.0 kB/s eta 0:00:02\n",
            "   ----------------------- ---------------- 1.3/2.2 MB 483.9 kB/s eta 0:00:02\n",
            "   ----------------------- ---------------- 1.3/2.2 MB 483.9 kB/s eta 0:00:02\n",
            "   ----------------------- ---------------- 1.3/2.2 MB 483.9 kB/s eta 0:00:02\n",
            "   ----------------------- ---------------- 1.3/2.2 MB 483.9 kB/s eta 0:00:02\n",
            "   ----------------------- ---------------- 1.3/2.2 MB 483.9 kB/s eta 0:00:02\n",
            "   ---------------------------- ----------- 1.6/2.2 MB 412.0 kB/s eta 0:00:02\n",
            "   ---------------------------- ----------- 1.6/2.2 MB 412.0 kB/s eta 0:00:02\n",
            "   ---------------------------- ----------- 1.6/2.2 MB 412.0 kB/s eta 0:00:02\n",
            "   ---------------------------- ----------- 1.6/2.2 MB 412.0 kB/s eta 0:00:02\n",
            "   ---------------------------- ----------- 1.6/2.2 MB 412.0 kB/s eta 0:00:02\n",
            "   ---------------------------- ----------- 1.6/2.2 MB 412.0 kB/s eta 0:00:02\n",
            "   --------------------------------- ------ 1.8/2.2 MB 340.7 kB/s eta 0:00:02\n",
            "   --------------------------------- ------ 1.8/2.2 MB 340.7 kB/s eta 0:00:02\n",
            "   --------------------------------- ------ 1.8/2.2 MB 340.7 kB/s eta 0:00:02\n",
            "   --------------------------------- ------ 1.8/2.2 MB 340.7 kB/s eta 0:00:02\n",
            "   -------------------------------------- - 2.1/2.2 MB 343.4 kB/s eta 0:00:01\n",
            "   ---------------------------------------- 2.2/2.2 MB 343.0 kB/s eta 0:00:00\n",
            "Downloading kiwisolver-1.4.7-cp313-cp313-win_amd64.whl (55 kB)\n",
            "Downloading pillow-11.0.0-cp313-cp313-win_amd64.whl (2.6 MB)\n",
            "   ---------------------------------------- 0.0/2.6 MB ? eta -:--:--\n",
            "   ---------------------------------------- 0.0/2.6 MB ? eta -:--:--\n",
            "   ---------------------------------------- 0.0/2.6 MB ? eta -:--:--\n",
            "   ---------------------------------------- 0.0/2.6 MB ? eta -:--:--\n",
            "   ---------------------------------------- 0.0/2.6 MB ? eta -:--:--\n",
            "   ---------------------------------------- 0.0/2.6 MB ? eta -:--:--\n",
            "   ---- ----------------------------------- 0.3/2.6 MB ? eta -:--:--\n",
            "   ---- ----------------------------------- 0.3/2.6 MB ? eta -:--:--\n",
            "   -------- ------------------------------- 0.5/2.6 MB 537.3 kB/s eta 0:00:04\n",
            "   ------------ --------------------------- 0.8/2.6 MB 787.3 kB/s eta 0:00:03\n",
            "   ------------ --------------------------- 0.8/2.6 MB 787.3 kB/s eta 0:00:03\n",
            "   ---------------- ----------------------- 1.0/2.6 MB 736.9 kB/s eta 0:00:03\n",
            "   ------------------------ --------------- 1.6/2.6 MB 947.8 kB/s eta 0:00:02\n",
            "   ---------------------------- ----------- 1.8/2.6 MB 986.3 kB/s eta 0:00:01\n",
            "   ------------------------------------ --- 2.4/2.6 MB 1.1 MB/s eta 0:00:01\n",
            "   ---------------------------------------- 2.6/2.6 MB 1.2 MB/s eta 0:00:00\n",
            "Downloading pyparsing-3.2.0-py3-none-any.whl (106 kB)\n",
            "Installing collected packages: pyparsing, pillow, kiwisolver, fonttools, cycler, contourpy, matplotlib\n",
            "Successfully installed contourpy-1.3.0 cycler-0.12.1 fonttools-4.54.1 kiwisolver-1.4.7 matplotlib-3.9.2 pillow-11.0.0 pyparsing-3.2.0\n",
            "Note: you may need to restart the kernel to use updated packages.\n"
          ]
        }
      ],
      "source": [
        "pip install numpy matplotlib"
      ]
    },
    {
      "cell_type": "code",
      "execution_count": null,
      "metadata": {
        "id": "YHbQvsMzkaxY"
      },
      "outputs": [],
      "source": [
        "import numpy as np\n",
        "import matplotlib.pyplot as plt"
      ]
    },
    {
      "cell_type": "code",
      "execution_count": null,
      "metadata": {
        "id": "6FkHR-wzkaxZ"
      },
      "outputs": [],
      "source": [
        "# Step 1: Generate random data with a normal distribution\n",
        "# Generate 100 random data points from a normal distribution (mean = 0, standard deviation = 1)\n",
        "data = np.random.normal(0, 1, 100)\n",
        "\n",
        "# Step 2: Add an outlier\n",
        "# Modify the first data point to create a significant outlier (set to 10)\n",
        "data[0] = 10"
      ]
    },
    {
      "cell_type": "markdown",
      "metadata": {
        "id": "sc8NYYtMkaxa"
      },
      "source": [
        "# Methods of Identifying Outliers:"
      ]
    },
    {
      "cell_type": "markdown",
      "metadata": {
        "id": "XMKJxrQRkaxc"
      },
      "source": [
        "## 1 - Visual inspection:"
      ]
    },
    {
      "cell_type": "code",
      "execution_count": null,
      "metadata": {
        "id": "Q4YK_IxQkaxd",
        "outputId": "0e393b2f-6168-417a-d6dd-c3c682a10634"
      },
      "outputs": [
        {
          "data": {
            "image/png": "[encoded data removed]",
            "text/plain": [
              "<Figure size 640x480 with 1 Axes>"
            ]
          },
          "metadata": {},
          "output_type": "display_data"
        }
      ],
      "source": [
        "# Step 3: Visualize the data\n",
        "# Create a scatter plot to visualize the data with the outlier\n",
        "plt.scatter(range(len(data)), data)  # 'range(len(data))' provides x-values as indices, 'data' is y-values\n",
        "plt.show()  # Display the scatter plot"
      ]
    },
    {
      "cell_type": "markdown",
      "metadata": {
        "id": "WYAXU2-Gkaxe"
      },
      "source": [
        "## 2 - Descriptive statistics:"
      ]
    },
    {
      "cell_type": "code",
      "execution_count": null,
      "metadata": {
        "id": "ykrZNO-Tkaxe",
        "outputId": "0f66357f-9ef2-400c-b443-8e78daf749fc"
      },
      "outputs": [
        {
          "name": "stdout",
          "output_type": "stream",
          "text": [
            "[np.float64(10.0)]\n"
          ]
        }
      ],
      "source": [
        "# Step 4: Calculate the mean and standard deviation of the data\n",
        "# Compute the mean (average) of the data\n",
        "mean = np.mean(data)\n",
        "\n",
        "# Compute the standard deviation (a measure of spread) of the data\n",
        "std = np.std(data)\n",
        "\n",
        "# Step 5: Identify outliers\n",
        "# An outlier is defined as a data point that lies more than 2 standard deviations away from the mean\n",
        "# This line creates a list of all such outlier points\n",
        "outliers = [x for x in data if (x < mean - 2 * std) or (x > mean + 2 * std)]\n",
        "print(outliers)  # Print outlier values to the console"
      ]
    },
    {
      "cell_type": "markdown",
      "metadata": {
        "id": "oBvCvyrMkaxf"
      },
      "source": [
        "# Methods of Dealing with Outliers:"
      ]
    },
    {
      "cell_type": "markdown",
      "metadata": {
        "id": "tdB9f0a5kaxf"
      },
      "source": [
        "## 1 - Removing outliers:"
      ]
    },
    {
      "cell_type": "code",
      "execution_count": null,
      "metadata": {
        "id": "s63hF-3akaxg",
        "outputId": "7118bcab-9c01-43fc-d3eb-453489a0d2e0"
      },
      "outputs": [
        {
          "data": {
            "image/png": "[encoded data removed]",
            "text/plain": [
              "<Figure size 640x480 with 1 Axes>"
            ]
          },
          "metadata": {},
          "output_type": "display_data"
        }
      ],
      "source": [
        "# Step 6: Remove outliers\n",
        "# Filter out data points greater than or equal to 4 to remove outliers (this threshold is chosen arbitrarily)\n",
        "data_without_outlier = data[data < 4]\n",
        "\n",
        "# Step 7: Visualize the data without outliers\n",
        "# Create a scatter plot to visualize the data without the outliers\n",
        "plt.scatter(range(len(data_without_outlier)), data_without_outlier)  # 'data_without_outlier' has no extreme values\n",
        "plt.show()  # Display the scatter plot"
      ]
    },
    {
      "cell_type": "markdown",
      "metadata": {
        "id": "eZ8Lbxvykaxg"
      },
      "source": [
        "## 2 - Transforming the data:"
      ]
    },
    {
      "cell_type": "code",
      "execution_count": null,
      "metadata": {
        "id": "HiuQDXatkaxg",
        "outputId": "70b1929d-aaf5-4605-a975-a1784131f3ff"
      },
      "outputs": [
        {
          "data": {
            "image/png": "[encoded data removed]",
            "text/plain": [
              "<Figure size 640x480 with 1 Axes>"
            ]
          },
          "metadata": {},
          "output_type": "display_data"
        }
      ],
      "source": [
        "# Step 8: Apply a log transformation to the original data (with outliers)\n",
        "# Log transformation helps to compress the range of the data and reduce the effect of extreme values\n",
        "# 'np.min(data)' finds the minimum value, and adding 1 ensures we avoid taking the log of zero\n",
        "data_transformed = np.log(data - np.min(data) + 1)\n",
        "\n",
        "# Step 9: Visualize the log-transformed data\n",
        "# Create a scatter plot to visualize the log-transformed data\n",
        "plt.scatter(range(len(data_transformed)), data_transformed)\n",
        "plt.show()  # Display the scatter plot"
      ]
    },
    {
      "cell_type": "code",
      "execution_count": null,
      "metadata": {
        "id": "1O7lT5PGkaxh"
      },
      "outputs": [],
      "source": []
    }
  ],
  "metadata": {
    "kernelspec": {
      "display_name": "Python 3 (ipykernel)",
      "language": "python",
      "name": "python3"
    },
    "language_info": {
      "codemirror_mode": {
        "name": "ipython",
        "version": 3
      },
      "file_extension": ".py",
      "mimetype": "text/x-python",
      "name": "python",
      "nbconvert_exporter": "python",
      "pygments_lexer": "ipython3",
      "version": "3.13.0"
    },
    "colab": {
      "provenance": []
    }
  },
  "nbformat": 4,
  "nbformat_minor": 0
}